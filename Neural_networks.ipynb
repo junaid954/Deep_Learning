{
 "cells": [
  {
   "cell_type": "code",
   "execution_count": 1,
   "metadata": {},
   "outputs": [],
   "source": [
    "from sklearn.datasets import make_blobs\n",
    "import numpy as np \n",
    "import matplotlib.pyplot as plt\n",
    "import tensorflow as tf\n"
   ]
  },
  {
   "cell_type": "code",
   "execution_count": 29,
   "metadata": {},
   "outputs": [],
   "source": [
    "class Layer:\n",
    "    def __init__(self, inputs , units, activation):\n",
    "        self.inputs = inputs \n",
    "        self.units= units \n",
    "        self.weights = tf.Variable(tf.zeros([inputs, units], dtype= np.float64))\n",
    "        self.bias= tf.Variable(tf.zeros([units],dtype=np.float64))\n",
    "        self.activation= activation\n",
    "class Model:\n",
    "    def __init__(self, inputs):\n",
    "        self.inputs= inputs\n",
    "        self.outputs = inputs\n",
    "        self.layers=[]\n",
    "        \n",
    "    def add_layer (self, units, activation = tf.sigmoid):\n",
    "        layer=Layer(units, self.outputs, activation)\n",
    "        self.layers.append(layer)\n",
    "        self.outputs= units \n",
    "        \n",
    "    def predict (self, X):\n",
    "        a=X\n",
    "        for layer in self.layers:\n",
    "            a=layer.activation(tf.matmul(a, layer.weights)+layer.bias)\n",
    "        return a"
   ]
  },
  {
   "cell_type": "code",
   "execution_count": 30,
   "metadata": {},
   "outputs": [],
   "source": [
    "model= Model(100)"
   ]
  },
  {
   "cell_type": "code",
   "execution_count": 31,
   "metadata": {},
   "outputs": [
    {
     "data": {
      "text/plain": [
       "100"
      ]
     },
     "execution_count": 31,
     "metadata": {},
     "output_type": "execute_result"
    }
   ],
   "source": [
    "model.outputs"
   ]
  },
  {
   "cell_type": "code",
   "execution_count": 16,
   "metadata": {},
   "outputs": [
    {
     "data": {
      "text/plain": [
       "<__main__.Layer at 0x2dc5e300108>"
      ]
     },
     "execution_count": 16,
     "metadata": {},
     "output_type": "execute_result"
    }
   ],
   "source": [
    "model.layers[0]"
   ]
  },
  {
   "cell_type": "code",
   "execution_count": 32,
   "metadata": {},
   "outputs": [],
   "source": [
    "X= tf.constant(np.random.randn(500,100))"
   ]
  },
  {
   "cell_type": "code",
   "execution_count": 34,
   "metadata": {},
   "outputs": [
    {
     "name": "stdout",
     "output_type": "stream",
     "text": [
      "tf.Tensor(\n",
      "[[-0.54098774  3.78682166 -0.82250617 ... -0.16019069  1.77376344\n",
      "   1.45003259]\n",
      " [-0.39352382 -0.59237413  0.54872725 ... -0.43732341  0.73539538\n",
      "  -2.61044142]\n",
      " [ 0.63037224  0.23352385  2.85369014 ... -0.06788883 -0.05382898\n",
      "  -2.19868252]\n",
      " ...\n",
      " [ 1.01136602  2.16163524  1.53042648 ...  2.4971172  -0.80979628\n",
      "  -0.67634944]\n",
      " [-0.44972973  0.77142011  1.22473755 ...  0.70922242  0.98197605\n",
      "   1.03667619]\n",
      " [ 0.99101739 -0.70596151  1.17616598 ... -0.86416291  0.96119501\n",
      "   0.78831475]], shape=(500, 100), dtype=float64)\n"
     ]
    }
   ],
   "source": [
    "print(model.predict(X))"
   ]
  },
  {
   "cell_type": "code",
   "execution_count": null,
   "metadata": {},
   "outputs": [],
   "source": []
  }
 ],
 "metadata": {
  "kernelspec": {
   "display_name": "Python 3",
   "language": "python",
   "name": "python3"
  },
  "language_info": {
   "codemirror_mode": {
    "name": "ipython",
    "version": 3
   },
   "file_extension": ".py",
   "mimetype": "text/x-python",
   "name": "python",
   "nbconvert_exporter": "python",
   "pygments_lexer": "ipython3",
   "version": "3.7.4"
  }
 },
 "nbformat": 4,
 "nbformat_minor": 4
}
