{
 "cells": [
  {
   "cell_type": "code",
   "execution_count": 6,
   "metadata": {},
   "outputs": [
    {
     "ename": "SyntaxError",
     "evalue": "invalid syntax (<ipython-input-6-7530cc8d2546>, line 32)",
     "output_type": "error",
     "traceback": [
      "\u001b[1;36m  File \u001b[1;32m\"<ipython-input-6-7530cc8d2546>\"\u001b[1;36m, line \u001b[1;32m32\u001b[0m\n\u001b[1;33m    <matplotlib.image.AxesImage at 0x1104d4240>\u001b[0m\n\u001b[1;37m    ^\u001b[0m\n\u001b[1;31mSyntaxError\u001b[0m\u001b[1;31m:\u001b[0m invalid syntax\n"
     ]
    }
   ],
   "source": [
    "from PIL import Image\n",
    "import numpy as np\n",
    "import matplotlib.pyplot as plt\n",
    "\n",
    "img = Image.open(\"../datasets/panda.jpg\")\n",
    "\n",
    "small = img.resize(size=(400, 300))\n",
    "\n",
    "small\n",
    "\n",
    "\n",
    "\n",
    "img = np.array(small).mean(axis=2)\n",
    "\n",
    "plt.imshow(img, cmap=\"gray\")\n",
    "\n",
    "\n",
    "\n",
    "\n",
    "padded_img = np.pad(img, pad_width=1)\n",
    "\n",
    "img.shape\n",
    "\n",
    "\n",
    "\n",
    "padded_img.shape\n",
    "\n",
    "(302, 402)\n",
    "\n",
    "plt.imshow(padded_img, cmap=\"gray\")\n",
    "\n",
    "<matplotlib.image.AxesImage at 0x1104d4240>\n",
    "\n",
    "\n",
    "fil = np.array([[1, 1, 1], [0, 0, 0], [-1, -1, -1]])\n",
    "\n",
    "result = np.zeros_like(img)\n",
    "\n",
    "for row in range(result.shape[0]):\n",
    "    for col in range(result.shape[1]):\n",
    "        cut = padded_img[row:row+3, col:col+3]\n",
    "        result[row, col] = (cut * fil).mean()\n",
    "\n",
    "plt.imshow(result, cmap=\"gray\")\n",
    "\n",
    "<matplotlib.image.AxesImage at 0x110516e10>"
   ]
  },
  {
   "cell_type": "code",
   "execution_count": null,
   "metadata": {},
   "outputs": [],
   "source": []
  }
 ],
 "metadata": {
  "kernelspec": {
   "display_name": "Python 3",
   "language": "python",
   "name": "python3"
  },
  "language_info": {
   "codemirror_mode": {
    "name": "ipython",
    "version": 3
   },
   "file_extension": ".py",
   "mimetype": "text/x-python",
   "name": "python",
   "nbconvert_exporter": "python",
   "pygments_lexer": "ipython3",
   "version": "3.7.4"
  }
 },
 "nbformat": 4,
 "nbformat_minor": 4
}
